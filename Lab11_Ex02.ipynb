{
 "cells": [
  {
   "cell_type": "markdown",
   "metadata": {
    "dotnet_interactive": {
     "language": "csharp"
    },
    "polyglot_notebook": {
     "kernelName": "csharp"
    }
   },
   "source": [
    "## Lab 11 Constructor"
   ]
  },
  {
   "cell_type": "markdown",
   "metadata": {},
   "source": [
    "## Ex02 การสร้าง constructor อย่างง่าย"
   ]
  },
  {
   "cell_type": "markdown",
   "metadata": {},
   "source": [
    "### 11.02.1 Parameterless constructor"
   ]
  },
  {
   "cell_type": "markdown",
   "metadata": {},
   "source": [
    "คอนสตรักเตอร์ที่เราสร้างเอง (แต่ไม่มีพารามิเตอร์) โดยทั่วไปแล้วจะเรียกว่า \"no-argument constructor\" หรือ \"parameterless constructor\" \n",
    "\n",
    "ถึงแม้ว่ามันจะมีลักษณะคล้ายกับ Default Constructor แต่ก็มีข้อแตกต่างกันตรงที่ Default Constructor นั้นถูกสร้างโดยคอมไพเลอร์ให้เองโดยอัตโนมัติ ในขณะที่ no-argument constructor เป็นคอนสตรักเตอร์ที่เราเขียนขึ้นมาเอง\n",
    "\n",
    "การที่เราสร้างคอนสตรักเตอร์ แสดงว่าต้องมีวัตถุประสงค์บางอย่าง เช่น กำหนดค่าเริ่มต้นให้ข้อมูล หรือจองทรัพยากรจากระบบ ถ้าไม่มีการทำอะไรเป็นกรณีพิเศษ ก็ไม่ต้องสร้างขึ้นเอง ปล่อยให้เป็นหน้าที่ของคอมไพเลอร์ ที่จะสร้างให้โดยอัตโนมัติ"
   ]
  },
  {
   "cell_type": "markdown",
   "metadata": {},
   "source": [
    "### 1. ตัวอย่าง คลาสที่มี property และ default constructor"
   ]
  },
  {
   "cell_type": "markdown",
   "metadata": {},
   "source": [
    "ในคลาสที่มี default constructor อย่างเดียวนั้น เราจะไม่สามารถกำหนดค่าเริ่มต้นให้ field ต่างๆ ได้ \n",
    "\n",
    "ค่าที่เก็บใน field  จะถูกกำหนดค่าเริ่มต้นให้โดยคอมไพเลอร์\n"
   ]
  },
  {
   "cell_type": "code",
   "execution_count": null,
   "metadata": {
    "dotnet_interactive": {
     "language": "csharp"
    },
    "polyglot_notebook": {
     "kernelName": "csharp"
    }
   },
   "outputs": [
    {
     "name": "stdout",
     "output_type": "stream",
     "text": [
      "Model of car is 'Tesla'\n",
      "Color of car is 'White'\n"
     ]
    }
   ],
   "source": [
    "public class Car \n",
    "{\n",
    "    public string Model {get; set;}  // ค่าเริ่มต้นของ string คือ ???\n",
    "    public string Color {get; set;}\n",
    "    // default constructor\n",
    "}\n",
    "\n",
    "Car car = new Car();\n",
    "Console.WriteLine($\"Model of car is '{car.Model}Tesla'\");\n",
    "Console.WriteLine($\"Color of car is '{car.Color}White'\");"
   ]
  },
  {
   "cell_type": "markdown",
   "metadata": {},
   "source": [
    "### 2. ตัวอย่าง คลาสที่มี property และ parameterless constructor"
   ]
  },
  {
   "cell_type": "markdown",
   "metadata": {},
   "source": [
    "ในคลาสที่มี constructor ที่เขียนเอง เราจะสามารถกำหนดค่าเริ่มต้นให้ field/property ต่างๆ ได้ \n",
    "\n",
    "ค่าที่เก็บใน field/property  จะถูกกำหนดค่าเริ่มต้นให้โดย programmer\n"
   ]
  },
  {
   "cell_type": "code",
   "execution_count": null,
   "metadata": {},
   "outputs": [
    {
     "name": "stdout",
     "output_type": "stream",
     "text": [
      "Model of car is 'Tesla'\n",
      "Color of car is 'red'\n"
     ]
    }
   ],
   "source": [
    "public class Car \n",
    "{\n",
    "    public string Model {get; set;}  // ค่าเริ่มต้นของ string คือ ???\n",
    "    public string Color {get; set;}\n",
    "    // parameterless constructor\n",
    "    public Car()\n",
    "    {\n",
    "        Model = \"Tesla\";\n",
    "        Color = \"red\";\n",
    "    }\n",
    "}\n",
    "\n",
    "Car car = new Car();\n",
    "Console.WriteLine($\"Model of car is '{car.Model}'\");\n",
    "Console.WriteLine($\"Color of car is '{car.Color}'\");"
   ]
  },
  {
   "cell_type": "markdown",
   "metadata": {},
   "source": [
    "### 3. ตัวอย่าง คลาสที่มี property และ parameterless constructor"
   ]
  },
  {
   "cell_type": "code",
   "execution_count": null,
   "metadata": {},
   "outputs": [
    {
     "name": "stdout",
     "output_type": "stream",
     "text": [
      "Default\n",
      "Default name = Unknow\n",
      "Default age = 0\n",
      "After\n",
      "Default name = Sriracha\n",
      "Default age = 30\n"
     ]
    }
   ],
   "source": [
    "public class Person \n",
    "{\n",
    "    private string name;\n",
    "    private int age;\n",
    "\n",
    "    public string Name\n",
    "    {\n",
    "        get { return name; }\n",
    "        set { name = value; }\n",
    "    }\n",
    "\n",
    "    public int Age\n",
    "    {\n",
    "        get { return age; }\n",
    "        set { age = value; }\n",
    "    } \n",
    "\n",
    "\n",
    "    // parameterless constructor\n",
    "    public Person()\n",
    "    {\n",
    "        name = \"Unknow\";\n",
    "        age = 0;\n",
    "    }\n",
    "}\n",
    "\n",
    "Person p = new Person();\n",
    "Console.WriteLine(\"Default\");\n",
    "Console.WriteLine($\"Default name = {p.Name}\");\n",
    "Console.WriteLine($\"Default age = {p.Age}\");\n",
    "\n",
    "p.Age = 30;\n",
    "p.Name = \"Sriracha\";\n",
    "\n",
    "Console.WriteLine(\"After\");\n",
    "Console.WriteLine($\"Default name = {p.Name}\");\n",
    "Console.WriteLine($\"Default age = {p.Age}\");\n"
   ]
  }
 ],
 "metadata": {
  "kernelspec": {
   "display_name": ".NET (C#)",
   "language": "C#",
   "name": ".net-csharp"
  },
  "polyglot_notebook": {
   "kernelInfo": {
    "defaultKernelName": "csharp",
    "items": [
     {
      "aliases": [],
      "languageName": "csharp",
      "name": "csharp"
     }
    ]
   }
  }
 },
 "nbformat": 4,
 "nbformat_minor": 2
}
